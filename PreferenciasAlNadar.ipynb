{
 "cells": [
  {
   "cell_type": "markdown",
   "metadata": {},
   "source": [
    "# Algoritmo ID3"
   ]
  },
  {
   "cell_type": "markdown",
   "metadata": {},
   "source": [
    "## Árboles de decisión"
   ]
  },
  {
   "cell_type": "markdown",
   "metadata": {},
   "source": [
    "###### Se desea saber cuales son las preferencias de condiciones para nadar usando el algoritmo ID3"
   ]
  },
  {
   "cell_type": "code",
   "execution_count": 1,
   "metadata": {},
   "outputs": [],
   "source": [
    "\n",
    "import math\n",
    "import numpy as np\n",
    "import pandas as pd\n",
    "import operator"
   ]
  },
  {
   "cell_type": "markdown",
   "metadata": {},
   "source": [
    "###### Definimos el target, la entropia y la información de ganancia"
   ]
  },
  {
   "cell_type": "code",
   "execution_count": 2,
   "metadata": {},
   "outputs": [],
   "source": [
    "def target_list(df,target_index):\n",
    "    target=df.iloc[:,target_index]\n",
    "    tot=len(target)\n",
    "    target_vals = list(set(target))\n",
    "    return tot,target_vals\n",
    "    \n",
    "def _entropy(df,target_index,atri=None):\n",
    "    target=df.iloc[:,target_index]\n",
    "    tot,target_vals =  target_list(df,target_index)\n",
    "    entropy = 0 \n",
    "    for i in target_vals:\n",
    "        t_count = len(list(filter(lambda x : x == i,target)))\n",
    "        entropy += (t_count/tot)* (-math.log(t_count/tot,2))\n",
    "    return entropy\n",
    "\n",
    "def info_gain(df,target_index,atri,ent_des):\n",
    "    atri_list = list(set(df[atri]))\n",
    "    tot,target_vals =  target_list(df,target_index)\n",
    "    info_gain = ent_des\n",
    "    for i in atri_list:\n",
    "        atri_total = len(list(filter(lambda x: x == i,df[atri])))\n",
    "        info_gain -= (atri_total/tot) * _entropy(df[(df[atri] == i)],target_index)\n",
    "    return info_gain"
   ]
  },
  {
   "cell_type": "markdown",
   "metadata": {},
   "source": [
    "###### Creamos listas(arrays) para los valores de nuestras variables"
   ]
  },
  {
   "cell_type": "code",
   "execution_count": 5,
   "metadata": {},
   "outputs": [],
   "source": [
    "waterTemperature=np.array(['cold','warm','cold','warm','cold','warm'])\n",
    "\n",
    "swimmingSuit = np.array(['none','none','small','small','good','good'])\n",
    "\n",
    "\n",
    "# Label or target varible\n",
    "\n",
    "preferences = np.array(['no','no','no','no','no','yes'])\n",
    "\n",
    "df=pd.DataFrame({'swimmingSuit': swimmingSuit,'waterTemperature':waterTemperature,'preferences':preferences})\n",
    "target_index=2"
   ]
  },
  {
   "cell_type": "markdown",
   "metadata": {},
   "source": [
    "###### Imprimimos los datos en una tabla"
   ]
  },
  {
   "cell_type": "code",
   "execution_count": 6,
   "metadata": {},
   "outputs": [
    {
     "data": {
      "text/html": [
       "<div>\n",
       "<style scoped>\n",
       "    .dataframe tbody tr th:only-of-type {\n",
       "        vertical-align: middle;\n",
       "    }\n",
       "\n",
       "    .dataframe tbody tr th {\n",
       "        vertical-align: top;\n",
       "    }\n",
       "\n",
       "    .dataframe thead th {\n",
       "        text-align: right;\n",
       "    }\n",
       "</style>\n",
       "<table border=\"1\" class=\"dataframe\">\n",
       "  <thead>\n",
       "    <tr style=\"text-align: right;\">\n",
       "      <th></th>\n",
       "      <th>swimmingSuit</th>\n",
       "      <th>waterTemperature</th>\n",
       "      <th>preferences</th>\n",
       "    </tr>\n",
       "  </thead>\n",
       "  <tbody>\n",
       "    <tr>\n",
       "      <td>0</td>\n",
       "      <td>none</td>\n",
       "      <td>cold</td>\n",
       "      <td>no</td>\n",
       "    </tr>\n",
       "    <tr>\n",
       "      <td>1</td>\n",
       "      <td>none</td>\n",
       "      <td>warm</td>\n",
       "      <td>no</td>\n",
       "    </tr>\n",
       "    <tr>\n",
       "      <td>2</td>\n",
       "      <td>small</td>\n",
       "      <td>cold</td>\n",
       "      <td>no</td>\n",
       "    </tr>\n",
       "    <tr>\n",
       "      <td>3</td>\n",
       "      <td>small</td>\n",
       "      <td>warm</td>\n",
       "      <td>no</td>\n",
       "    </tr>\n",
       "    <tr>\n",
       "      <td>4</td>\n",
       "      <td>good</td>\n",
       "      <td>cold</td>\n",
       "      <td>no</td>\n",
       "    </tr>\n",
       "    <tr>\n",
       "      <td>5</td>\n",
       "      <td>good</td>\n",
       "      <td>warm</td>\n",
       "      <td>yes</td>\n",
       "    </tr>\n",
       "  </tbody>\n",
       "</table>\n",
       "</div>"
      ],
      "text/plain": [
       "  swimmingSuit waterTemperature preferences\n",
       "0         none             cold          no\n",
       "1         none             warm          no\n",
       "2        small             cold          no\n",
       "3        small             warm          no\n",
       "4         good             cold          no\n",
       "5         good             warm         yes"
      ]
     },
     "execution_count": 6,
     "metadata": {},
     "output_type": "execute_result"
    }
   ],
   "source": [
    "df"
   ]
  },
  {
   "cell_type": "markdown",
   "metadata": {},
   "source": [
    "###### Definimos el target(las preferencias)"
   ]
  },
  {
   "cell_type": "code",
   "execution_count": 7,
   "metadata": {},
   "outputs": [
    {
     "data": {
      "text/plain": [
       "0     no\n",
       "1     no\n",
       "2     no\n",
       "3     no\n",
       "4     no\n",
       "5    yes\n",
       "Name: preferences, dtype: object"
      ]
     },
     "execution_count": 7,
     "metadata": {},
     "output_type": "execute_result"
    }
   ],
   "source": [
    "target=df.iloc[:,target_index]\n",
    "target"
   ]
  },
  {
   "cell_type": "markdown",
   "metadata": {},
   "source": [
    "###### Contamos los sí y no"
   ]
  },
  {
   "cell_type": "code",
   "execution_count": 9,
   "metadata": {},
   "outputs": [
    {
     "name": "stdout",
     "output_type": "stream",
     "text": [
      "1\n",
      "5\n"
     ]
    }
   ],
   "source": [
    "tot = len(target)\n",
    "p = len(list(filter(lambda x : x =='yes',preferences)))\n",
    "n = len(list(filter(lambda x : x =='no',preferences)))\n",
    "print(p)\n",
    "print(n)"
   ]
  },
  {
   "cell_type": "markdown",
   "metadata": {},
   "source": [
    "###### Calculamos la entropia total de preferencias"
   ]
  },
  {
   "cell_type": "code",
   "execution_count": 10,
   "metadata": {},
   "outputs": [
    {
     "data": {
      "text/plain": [
       "0.6500224216483541"
      ]
     },
     "execution_count": 10,
     "metadata": {},
     "output_type": "execute_result"
    }
   ],
   "source": [
    "ent_des = _entropy(df,target_index)\n",
    "ent_des"
   ]
  },
  {
   "cell_type": "markdown",
   "metadata": {},
   "source": [
    "###### Calculamos la entropia de las particiones"
   ]
  },
  {
   "cell_type": "markdown",
   "metadata": {},
   "source": [
    "###### S none : Que no usan traje de baño"
   ]
  },
  {
   "cell_type": "code",
   "execution_count": 11,
   "metadata": {},
   "outputs": [
    {
     "data": {
      "text/plain": [
       "0.0"
      ]
     },
     "execution_count": 11,
     "metadata": {},
     "output_type": "execute_result"
    }
   ],
   "source": [
    "_entropy(df[(df['swimmingSuit'] == 'none')],target_index)"
   ]
  },
  {
   "cell_type": "markdown",
   "metadata": {},
   "source": [
    "###### Nota:  La entropia en S none es cero por que todas las instancias tienen la clase NO"
   ]
  },
  {
   "cell_type": "markdown",
   "metadata": {},
   "source": [
    "###### S small: Que prefieren usar traje de baño pequeño"
   ]
  },
  {
   "cell_type": "code",
   "execution_count": 12,
   "metadata": {},
   "outputs": [
    {
     "data": {
      "text/plain": [
       "0.0"
      ]
     },
     "execution_count": 12,
     "metadata": {},
     "output_type": "execute_result"
    }
   ],
   "source": [
    "_entropy(df[(df['swimmingSuit'] == 'small')],target_index)"
   ]
  },
  {
   "cell_type": "markdown",
   "metadata": {},
   "source": [
    "###### S good : Que prefieren usar un traje de baño que les quede bien "
   ]
  },
  {
   "cell_type": "code",
   "execution_count": 13,
   "metadata": {},
   "outputs": [
    {
     "data": {
      "text/plain": [
       "1.0"
      ]
     },
     "execution_count": 13,
     "metadata": {},
     "output_type": "execute_result"
    }
   ],
   "source": [
    "_entropy(df[(df['swimmingSuit'] == 'good')],target_index)"
   ]
  },
  {
   "cell_type": "markdown",
   "metadata": {},
   "source": [
    "######  Nota: En la particion S good que nos dió la entropia más grande significa que es la que nos va a aportar más información "
   ]
  },
  {
   "cell_type": "markdown",
   "metadata": {},
   "source": [
    "######  Calculamos la informacion de ganancia"
   ]
  },
  {
   "cell_type": "code",
   "execution_count": 14,
   "metadata": {},
   "outputs": [
    {
     "name": "stdout",
     "output_type": "stream",
     "text": [
      "information gain for swimmingSuit is: 0.3166890883150208\n",
      "information gain for waterTemperature is: 0.19087450462110933\n"
     ]
    }
   ],
   "source": [
    "all_attributes = list(df.columns) \n",
    "all_attributes.remove(df.columns[target_index])\n",
    "information_gain = {}\n",
    "\n",
    "for i in all_attributes:\n",
    "    information_gain[i] = info_gain(df,target_index,i,ent_des)\n",
    "    print('information gain for ' + i + ' is: ' + str(information_gain[i]))"
   ]
  },
  {
   "cell_type": "markdown",
   "metadata": {},
   "source": [
    "######   Por lo tanto, podemos obtener más información sobre el conjunto S(swimming suit)\n"
   ]
  },
  {
   "cell_type": "markdown",
   "metadata": {},
   "source": [
    "######  Elaboró Thelma y Hugo"
   ]
  },
  {
   "cell_type": "code",
   "execution_count": null,
   "metadata": {},
   "outputs": [],
   "source": []
  }
 ],
 "metadata": {
  "kernelspec": {
   "display_name": "Python 3",
   "language": "python",
   "name": "python3"
  },
  "language_info": {
   "codemirror_mode": {
    "name": "ipython",
    "version": 3
   },
   "file_extension": ".py",
   "mimetype": "text/x-python",
   "name": "python",
   "nbconvert_exporter": "python",
   "pygments_lexer": "ipython3",
   "version": "3.7.4"
  }
 },
 "nbformat": 4,
 "nbformat_minor": 2
}
